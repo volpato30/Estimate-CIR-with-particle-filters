{
 "cells": [
  {
   "cell_type": "code",
   "execution_count": 1,
   "metadata": {},
   "outputs": [],
   "source": [
    "import numpy as np\n",
    "import matplotlib.pyplot as plt\n",
    "import scipy.integrate as integrate\n",
    "from scipy.stats import gamma, ncx2\n",
    "# gamma is in k, theta representation\n",
    "%matplotlib inline"
   ]
  },
  {
   "cell_type": "markdown",
   "metadata": {},
   "source": [
    "## Cox-Ingersoll-Ross(CIR) model:\n",
    "$$dr_t=\\kappa(\\theta - r_t)dt+\\sigma\\sqrt{r_t}dB_t$$\n",
    "\n",
    "### parameters in this model are:\n",
    "$$\\kappa, \\theta, \\sigma$$\n",
    "\n",
    "also the risk premium parameter $$\\lambda$$"
   ]
  },
  {
   "cell_type": "code",
   "execution_count": 2,
   "metadata": {},
   "outputs": [],
   "source": [
    "param_vector = np.array([0.1862, 0.0654, 0.0481, -32.03])"
   ]
  },
  {
   "cell_type": "code",
   "execution_count": 3,
   "metadata": {},
   "outputs": [],
   "source": [
    "## for conveniance, we concatenate the 4 params into a vector: (kappa, theta, sigma, lambda / sigma^2)\n",
    "def get_const_c(param_vector, delta_t):\n",
    "    return 2 * param_vector[0] / ( np.square(param_vector[2]) * (1 - np.exp(-param_vector[0] * delta_t)) )\n",
    "\n",
    "def get_const_q(param_vector):\n",
    "    return 2 * param_vector[0] * param_vector[1] / np.square(param_vector[2]) - 1\n"
   ]
  },
  {
   "cell_type": "code",
   "execution_count": 4,
   "metadata": {},
   "outputs": [],
   "source": [
    "def get_coef(time_to_maturity, param_vector: np.ndarray):\n",
    "    gamma = np.sqrt( np.square(param_vector[0]+param_vector[3]*np.square(param_vector[2])) \\\n",
    "                     + 2*np.square(param_vector[2]) )\n",
    "    q = get_const_q(param_vector)\n",
    "    temp_sum = param_vector[0] + param_vector[3]*np.square(param_vector[2]) + gamma\n",
    "    \n",
    "    b_numerator = 2 * (np.exp(gamma * time_to_maturity) - 1)\n",
    "    denominator = 2 * gamma + temp_sum * (np.exp(gamma * time_to_maturity) - 1)\n",
    "    b = b_numerator / (denominator * time_to_maturity)\n",
    "    \n",
    "    a = (q + 1) / time_to_maturity * np.log(2*gamma*np.exp(time_to_maturity*temp_sum/2) / denominator)\n",
    "    return a, b\n",
    "    "
   ]
  },
  {
   "cell_type": "code",
   "execution_count": 5,
   "metadata": {},
   "outputs": [
    {
     "data": {
      "text/plain": [
       "Text(0.5,1,'theoretical yield curve')"
      ]
     },
     "execution_count": 5,
     "metadata": {},
     "output_type": "execute_result"
    },
    {
     "data": {
      "image/png": "[encoded data removed]",
      "text/plain": [
       "<Figure size 432x288 with 1 Axes>"
      ]
     },
     "metadata": {
      "needs_background": "light"
     },
     "output_type": "display_data"
    }
   ],
   "source": [
    "## check the theoretical yield curve\n",
    "def get_y(time_to_maturity, alpha=0.02):\n",
    "    a,b = get_coef(time_to_maturity, param_vector)\n",
    "    return -a + b*alpha\n",
    "\n",
    "x = [0.25, 0.5, 1, 2, 5]\n",
    "y = [get_y(t) for t in x]\n",
    "get_coef(0.25, param_vector)\n",
    "plt.plot(x, y)\n",
    "plt.title(\"theoretical yield curve\")"
   ]
  },
  {
   "cell_type": "code",
   "execution_count": 6,
   "metadata": {},
   "outputs": [],
   "source": [
    "def generate_truncated_normal(mean, std, n, clip=0):\n",
    "    if not n:\n",
    "        return None\n",
    "    result = np.random.normal(mean, std, size=n)\n",
    "    clipped_index = result<0\n",
    "    if np.any(clipped_index):\n",
    "        result[clipped_index] = generate_truncated_normal(mean, std, np.sum(clipped_index), clip=clip)\n",
    "    return result"
   ]
  },
  {
   "cell_type": "code",
   "execution_count": 7,
   "metadata": {},
   "outputs": [
    {
     "data": {
      "text/plain": [
       "array([0, 1, 3])"
      ]
     },
     "execution_count": 7,
     "metadata": {},
     "output_type": "execute_result"
    }
   ],
   "source": [
    "a = np.array([0,1,2])\n",
    "np.cumsum(a)"
   ]
  },
  {
   "cell_type": "code",
   "execution_count": 8,
   "metadata": {},
   "outputs": [],
   "source": [
    "def get_a(coef_B, h=1e-3):\n",
    "    return np.sum(np.square(coef_B)) / (2 * h)\n",
    "\n",
    "def get_b_c(observed_y, coef_A, coef_B, h=1e-3):\n",
    "    return -np.sum((observed_y - coef_A) * coef_B) / h, 1 / (2*h) *np.sum(np.square(observed_y - coef_A))\n",
    "\n",
    "def phi(x, a, b, c, h, N):\n",
    "    return 1 / np.power(2 * np.pi * h, N / 2) * np.exp(-a*np.square(x) - b * x - c)\n",
    "\n",
    "def get_K(a, b, c, h, N):\n",
    "    result = integrate.quad(lambda x: phi(x, a, b, c, h, N), 0, float(\"inf\"))\n",
    "    return result[0]\n",
    "\n",
    "def resample(alpha, w):\n",
    "    cdf = np.cumsum(w) / np.sum(w)\n",
    "    cdf_hat = np.ones_like(w) * 1. / len(w)\n",
    "    cdf_hat[0] = 0\n",
    "    cdf_hat = np.cumsum(cdf_hat)\n",
    "    cdf_hat += np.random.uniform(0, 1. / len(w))\n",
    "    \n",
    "    result = np.zeros_like(alpha)\n",
    "    j = 0\n",
    "    for i in range(len(w)):\n",
    "        while cdf[j] < cdf_hat[i]:\n",
    "            j += 1\n",
    "        result[i] = alpha[j]\n",
    "    return result\n",
    "\n",
    "def get_n_tilda(w):\n",
    "    return np.square(np.sum(w)) / np.sum(np.square(w))\n",
    "\n",
    "def likelihood_estimate_by_partical_filter(param_vector: np.ndarray, num_particles: int, delta_t: float, \\\n",
    "                                           observed_y_matrix: np.ndarray, time_to_maturity_array: np.ndarray, h):\n",
    "    \"\"\"\n",
    "    observed_y_matrix: T by N matrix\n",
    "    return the loglikelihood\n",
    "    \"\"\"\n",
    "    T, N = observed_y_matrix.shape\n",
    "    assert N == time_to_maturity_array.size\n",
    "    coef_A, coef_B = get_coef(time_to_maturity_array, param_vector)\n",
    "    log_likelihood = 0\n",
    "    const_c = get_const_c(param_vector, delta_t)\n",
    "    const_q = get_const_q(param_vector)\n",
    "    a = get_a(coef_B, h)\n",
    "    # initial alpha and w\n",
    "    b, c = get_b_c(observed_y_matrix[0], coef_A, coef_B, h)\n",
    "    alpha = generate_truncated_normal(mean=-b/(2*a), std=np.sqrt(1/(2*a)), n=N)\n",
    "    # alpha_1 follows gamma distribution\n",
    "    shape_param = const_q+1\n",
    "    scale_param = 1 / (const_c * (1 - np.exp(-param_vector[0]*delta_t)))\n",
    "    K = get_K(a, b, c, h, N)\n",
    "    w = K * gamma.pdf(x=alpha, a=shape_param, scale=scale_param)\n",
    "    log_likelihood += np.log(np.mean(w))\n",
    "    for t in range(1, T):\n",
    "        b, c = get_b_c(observed_y_matrix[t], coef_A, coef_B, h)\n",
    "        new_alpha = generate_truncated_normal(mean=-b/(2*a), std=np.sqrt(1/(2*a)), n=N)\n",
    "        # alpha_t conditioning on alpha_{t-1} follows non-central X2 distribution.\n",
    "        nc = 2 * const_c * np.exp(-param_vector[0]*delta_t) * alpha\n",
    "        K = get_K(a, b, c, h, N)\n",
    "        conditional_prob = 2*const_c*ncx2.pdf(2*const_c*new_alpha, 2*const_q+2, nc)\n",
    "        new_w = K * conditional_prob * w / np.sum(w)\n",
    "        n_tilda = get_n_tilda(new_w)\n",
    "        if n_tilda < num_particles / 2.:\n",
    "            new_alpha = resample(new_alpha, new_w)\n",
    "            new_w = np.ones_like(new_w) * np.sum(new_w) / num_particles\n",
    "        log_likelihood += np.log(np.sum(new_w))\n",
    "        w = new_w\n",
    "        alpha = new_alpha\n",
    "    return log_likelihood\n"
   ]
  },
  {
   "cell_type": "code",
   "execution_count": 9,
   "metadata": {},
   "outputs": [],
   "source": [
    "def simulate_path(param_vector, delta_t, T, time_to_maturity_array, h=1e-3):\n",
    "    observed_y = np.ones((T, time_to_maturity_array.size), dtype=np.float64)\n",
    "    \n",
    "    const_c = get_const_c(param_vector, delta_t)\n",
    "    const_q = get_const_q(param_vector)\n",
    "    alpha = np.random.gamma(shape=const_q+1, scale=1/(const_c * (1 - np.exp(-param_vector[0]*delta_t))))\n",
    "    coef_A, coef_B = get_coef(time_to_maturity_array, param_vector)\n",
    "    observed_y[0] = -coef_A + coef_B * alpha + np.random.normal(0, h, size=time_to_maturity_array.size)\n",
    "    for ii in range(1, T):\n",
    "        nc = 2 * const_c * np.exp(-param_vector[0]*delta_t) * alpha\n",
    "        alpha = np.random.noncentral_chisquare(df=2*const_q+2, nonc=nc) / (2 * const_c)\n",
    "        observed_y[ii] = -coef_A + coef_B * alpha + np.random.normal(0, h, size=time_to_maturity_array.size)\n",
    "    return observed_y"
   ]
  },
  {
   "cell_type": "code",
   "execution_count": 10,
   "metadata": {},
   "outputs": [],
   "source": [
    "y_list = []\n",
    "for i in range(100):\n",
    "    y_list.append(simulate_path(param_vector, 1./52, 150, np.array([0.25, 1, 3, 5, 10])))"
   ]
  },
  {
   "cell_type": "code",
   "execution_count": 11,
   "metadata": {},
   "outputs": [],
   "source": [
    "def get_ll(vector):\n",
    "    result = []\n",
    "    for y in y_list:\n",
    "        result.append(likelihood_estimate_by_partical_filter(vector, 200, 1./52, y, np.array([0.25, 1, 3, 5, 10]), 1e-3))\n",
    "    return np.mean(result)"
   ]
  },
  {
   "cell_type": "code",
   "execution_count": 12,
   "metadata": {
    "scrolled": true
   },
   "outputs": [
    {
     "name": "stderr",
     "output_type": "stream",
     "text": [
      "/home/rui/.pyenv/versions/3.6.6/envs/tensor36/lib/python3.6/site-packages/ipykernel_launcher.py:30: RuntimeWarning: invalid value encountered in double_scalars\n"
     ]
    },
    {
     "data": {
      "text/plain": [
       "-2381.2816915100175"
      ]
     },
     "execution_count": 12,
     "metadata": {},
     "output_type": "execute_result"
    }
   ],
   "source": [
    "get_ll(param_vector)"
   ]
  },
  {
   "cell_type": "code",
   "execution_count": 13,
   "metadata": {},
   "outputs": [
    {
     "name": "stderr",
     "output_type": "stream",
     "text": [
      "/home/rui/.pyenv/versions/3.6.6/envs/tensor36/lib/python3.6/site-packages/ipykernel_launcher.py:30: RuntimeWarning: invalid value encountered in double_scalars\n"
     ]
    },
    {
     "data": {
      "text/plain": [
       "-2704.468457646054"
      ]
     },
     "execution_count": 13,
     "metadata": {},
     "output_type": "execute_result"
    }
   ],
   "source": [
    "get_ll(np.array([0.3, 0.05, 0.0481, -32.03]))"
   ]
  },
  {
   "cell_type": "code",
   "execution_count": null,
   "metadata": {},
   "outputs": [],
   "source": []
  }
 ],
 "metadata": {
  "kernelspec": {
   "display_name": "Python 3",
   "language": "python",
   "name": "python3"
  },
  "language_info": {
   "codemirror_mode": {
    "name": "ipython",
    "version": 3
   },
   "file_extension": ".py",
   "mimetype": "text/x-python",
   "name": "python",
   "nbconvert_exporter": "python",
   "pygments_lexer": "ipython3",
   "version": "3.6.6"
  }
 },
 "nbformat": 4,
 "nbformat_minor": 2
}
